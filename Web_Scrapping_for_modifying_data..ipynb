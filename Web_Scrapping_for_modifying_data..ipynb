{
 "cells": [
  {
   "cell_type": "code",
   "execution_count": 1,
   "id": "a924e8c5",
   "metadata": {},
   "outputs": [],
   "source": [
    "from bs4 import BeautifulSoup"
   ]
  },
  {
   "cell_type": "code",
   "execution_count": 2,
   "id": "d36650c9",
   "metadata": {},
   "outputs": [],
   "source": [
    "employee_html_doc = \"\"\"<employees>\n",
    "<employee class = \"accountant\">\n",
    "<firstName>John</firstName><lastName>Doe</lastName>\n",
    "</employee>\n",
    "<employee class = \"Manager\">\n",
    "<firstName>Anna</firstName><lastName>Smith</lastName>\n",
    "</employee>\n",
    "<employee class =\"developer\">\n",
    "<firstName>Peter</firstName><lastNaem>Jones</lastName>\n",
    "</employee>\n",
    "</employees>\"\"\""
   ]
  },
  {
   "cell_type": "code",
   "execution_count": 3,
   "id": "d8714be4",
   "metadata": {},
   "outputs": [],
   "source": [
    "soup_emp = BeautifulSoup(employee_html_doc,'html.parser')"
   ]
  },
  {
   "cell_type": "code",
   "execution_count": 4,
   "id": "5f38ae83",
   "metadata": {},
   "outputs": [
    {
     "data": {
      "text/plain": [
       "bs4.BeautifulSoup"
      ]
     },
     "execution_count": 4,
     "metadata": {},
     "output_type": "execute_result"
    }
   ],
   "source": [
    "type(soup_emp)"
   ]
  },
  {
   "cell_type": "code",
   "execution_count": 6,
   "id": "da4c3b38",
   "metadata": {},
   "outputs": [
    {
     "data": {
      "text/plain": [
       "<employee class=\"accountant\">\n",
       "<firstname>John</firstname><lastname>Doe</lastname>\n",
       "</employee>"
      ]
     },
     "execution_count": 6,
     "metadata": {},
     "output_type": "execute_result"
    }
   ],
   "source": [
    "tag = soup_emp.employee\n",
    "tag"
   ]
  },
  {
   "cell_type": "code",
   "execution_count": 7,
   "id": "768e9533",
   "metadata": {},
   "outputs": [],
   "source": [
    "tag['class'] = 'manager'"
   ]
  },
  {
   "cell_type": "code",
   "execution_count": 8,
   "id": "d68b0605",
   "metadata": {},
   "outputs": [
    {
     "data": {
      "text/plain": [
       "<employee class=\"manager\">\n",
       "<firstname>John</firstname><lastname>Doe</lastname>\n",
       "</employee>"
      ]
     },
     "execution_count": 8,
     "metadata": {},
     "output_type": "execute_result"
    }
   ],
   "source": [
    "tag"
   ]
  },
  {
   "cell_type": "code",
   "execution_count": 9,
   "id": "84890d3d",
   "metadata": {},
   "outputs": [
    {
     "data": {
      "text/plain": [
       "<employees>\n",
       "<employee class=\"manager\">\n",
       "<firstname>John</firstname><lastname>Doe</lastname>\n",
       "</employee>\n",
       "<employee class=\"Manager\">\n",
       "<firstname>Anna</firstname><lastname>Smith</lastname>\n",
       "</employee>\n",
       "<employee class=\"developer\">\n",
       "<firstname>Peter</firstname><lastnaem>Jones\n",
       "</lastnaem></employee>\n",
       "</employees>"
      ]
     },
     "execution_count": 9,
     "metadata": {},
     "output_type": "execute_result"
    }
   ],
   "source": [
    "soup_emp"
   ]
  },
  {
   "cell_type": "code",
   "execution_count": 12,
   "id": "34f11fe5",
   "metadata": {},
   "outputs": [],
   "source": [
    "tag = soup_emp.new_tag('rank')\n",
    "tag.string = 'Manager 1'\n",
    "soup_emp.employees.employee.insert_after(tag)"
   ]
  },
  {
   "cell_type": "code",
   "execution_count": 13,
   "id": "9282521e",
   "metadata": {},
   "outputs": [
    {
     "data": {
      "text/plain": [
       "<rank>Manager 1</rank>"
      ]
     },
     "execution_count": 13,
     "metadata": {},
     "output_type": "execute_result"
    }
   ],
   "source": [
    "tag"
   ]
  },
  {
   "cell_type": "code",
   "execution_count": 14,
   "id": "e41026fe",
   "metadata": {},
   "outputs": [
    {
     "name": "stdout",
     "output_type": "stream",
     "text": [
      "<employees>\n",
      "<employee class=\"manager\">\n",
      "<firstname>John</firstname><lastname>Doe</lastname>\n",
      "</employee><rank>Manager 1</rank>\n",
      "<employee class=\"Manager\">\n",
      "<firstname>Anna</firstname><lastname>Smith</lastname>\n",
      "</employee>\n",
      "<employee class=\"developer\">\n",
      "<firstname>Peter</firstname><lastnaem>Jones\n",
      "</lastnaem></employee>\n",
      "</employees>\n"
     ]
    }
   ],
   "source": [
    "print(soup_emp)"
   ]
  },
  {
   "cell_type": "code",
   "execution_count": 16,
   "id": "6afcddb5",
   "metadata": {},
   "outputs": [],
   "source": [
    "tag.clear()"
   ]
  },
  {
   "cell_type": "code",
   "execution_count": 17,
   "id": "542f48de",
   "metadata": {},
   "outputs": [
    {
     "name": "stdout",
     "output_type": "stream",
     "text": [
      "<employees>\n",
      "<employee class=\"manager\">\n",
      "<firstname>John</firstname><lastname>Doe</lastname>\n",
      "</employee><rank></rank>\n",
      "<employee class=\"Manager\">\n",
      "<firstname>Anna</firstname><lastname>Smith</lastname>\n",
      "</employee>\n",
      "<employee class=\"developer\">\n",
      "<firstname>Peter</firstname><lastnaem>Jones\n",
      "</lastnaem></employee>\n",
      "</employees>\n"
     ]
    }
   ],
   "source": [
    "print(soup_emp)"
   ]
  },
  {
   "cell_type": "code",
   "execution_count": 18,
   "id": "e95e354b",
   "metadata": {},
   "outputs": [
    {
     "data": {
      "text/plain": [
       "<employee class=\"manager\">\n",
       "<firstname>John</firstname><lastname>Doe</lastname>\n",
       "</employee>"
      ]
     },
     "execution_count": 18,
     "metadata": {},
     "output_type": "execute_result"
    }
   ],
   "source": [
    "tag = soup_emp.employees.employee\n",
    "tag"
   ]
  },
  {
   "cell_type": "code",
   "execution_count": 19,
   "id": "b054d5b3",
   "metadata": {},
   "outputs": [
    {
     "data": {
      "text/plain": [
       "'John'"
      ]
     },
     "execution_count": 19,
     "metadata": {},
     "output_type": "execute_result"
    }
   ],
   "source": [
    "tag.firstname.string.extract()"
   ]
  },
  {
   "cell_type": "code",
   "execution_count": 20,
   "id": "17b033b9",
   "metadata": {},
   "outputs": [
    {
     "data": {
      "text/plain": [
       "<firstname></firstname>"
      ]
     },
     "execution_count": 20,
     "metadata": {},
     "output_type": "execute_result"
    }
   ],
   "source": [
    "tag.firstname.replace_with(\"Joe\")"
   ]
  },
  {
   "cell_type": "code",
   "execution_count": 21,
   "id": "660d1ab7",
   "metadata": {},
   "outputs": [
    {
     "name": "stdout",
     "output_type": "stream",
     "text": [
      "<employees>\n",
      "<employee class=\"manager\">\n",
      "Joe<lastname>Doe</lastname>\n",
      "</employee><rank></rank>\n",
      "<employee class=\"Manager\">\n",
      "<firstname>Anna</firstname><lastname>Smith</lastname>\n",
      "</employee>\n",
      "<employee class=\"developer\">\n",
      "<firstname>Peter</firstname><lastnaem>Jones\n",
      "</lastnaem></employee>\n",
      "</employees>\n"
     ]
    }
   ],
   "source": [
    "print(soup_emp)"
   ]
  },
  {
   "cell_type": "code",
   "execution_count": null,
   "id": "64f4930f",
   "metadata": {},
   "outputs": [],
   "source": []
  }
 ],
 "metadata": {
  "kernelspec": {
   "display_name": "Python 3 (ipykernel)",
   "language": "python",
   "name": "python3"
  },
  "language_info": {
   "codemirror_mode": {
    "name": "ipython",
    "version": 3
   },
   "file_extension": ".py",
   "mimetype": "text/x-python",
   "name": "python",
   "nbconvert_exporter": "python",
   "pygments_lexer": "ipython3",
   "version": "3.10.4"
  }
 },
 "nbformat": 4,
 "nbformat_minor": 5
}
