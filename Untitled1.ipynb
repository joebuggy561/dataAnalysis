{
 "cells": [
  {
   "cell_type": "code",
   "execution_count": 3,
   "id": "9e6619b2",
   "metadata": {},
   "outputs": [],
   "source": [
    "def find_anagram(word,anagram):\n",
    "    if (sorted(word) == sorted(anagram)):\n",
    "            return True\n",
    "    else:\n",
    "            return False"
   ]
  },
  {
   "cell_type": "code",
   "execution_count": 5,
   "id": "7ef83c4a",
   "metadata": {},
   "outputs": [
    {
     "data": {
      "text/plain": [
       "True"
      ]
     },
     "execution_count": 5,
     "metadata": {},
     "output_type": "execute_result"
    }
   ],
   "source": [
    "find_anagram(\"low\",\"wol\")"
   ]
  },
  {
   "cell_type": "code",
   "execution_count": 23,
   "id": "ee4a5fd6",
   "metadata": {},
   "outputs": [],
   "source": [
    "from itertools import count\n",
    "def read_file_content(filename):\n",
    "    # [assignment] Add your code here \n",
    "    with open(\"story.txt\") as f:\n",
    "        filename = f.read()\n",
    "        print(read_file_content(filename))\n",
    "        return filename\n",
    "    #return \"Hello World\"\n",
    "\n",
    "def count_words():\n",
    "    text = read_file_content(\"story.txt\")\n",
    "    # [assignment] Add your code here\n",
    "    count = dict()\n",
    "    words = str.split()\n",
    "\n",
    "    for word in words:\n",
    "        if word in count:\n",
    "            count[word] += 1\n",
    "        else:\n",
    "            count[word] = 1\n",
    "        return (count)"
   ]
  },
  {
   "cell_type": "code",
   "execution_count": 22,
   "id": "922b671f",
   "metadata": {},
   "outputs": [],
   "source": [
    "def read_file_content(filename):\n",
    "    with open(\"C:\\\\Users\\\\PureLight\\\\Desktop\\\\git\\\\python_DA\\\\story.txt\") as f:\n",
    "        filename = f.readlines()\n",
    "        print(filename)"
   ]
  },
  {
   "cell_type": "code",
   "execution_count": 38,
   "id": "cb9841a8",
   "metadata": {},
   "outputs": [
    {
     "ename": "TypeError",
     "evalue": "'str' object is not callable",
     "output_type": "error",
     "traceback": [
      "\u001b[1;31m---------------------------------------------------------------------------\u001b[0m",
      "\u001b[1;31mTypeError\u001b[0m                                 Traceback (most recent call last)",
      "\u001b[1;32mC:\\Users\\PURELI~1\\AppData\\Local\\Temp/ipykernel_1796/1399059459.py\u001b[0m in \u001b[0;36m<module>\u001b[1;34m\u001b[0m\n\u001b[0;32m     26\u001b[0m \u001b[1;33m\u001b[0m\u001b[0m\n\u001b[0;32m     27\u001b[0m \u001b[1;31m# Expected methods\u001b[0m\u001b[1;33m\u001b[0m\u001b[1;33m\u001b[0m\u001b[0m\n\u001b[1;32m---> 28\u001b[1;33m \u001b[0mBob\u001b[0m\u001b[1;33m.\u001b[0m\u001b[0mchange_name\u001b[0m\u001b[1;33m(\u001b[0m\u001b[1;34m\"Peter\"\u001b[0m\u001b[1;33m)\u001b[0m\u001b[1;33m\u001b[0m\u001b[1;33m\u001b[0m\u001b[0m\n\u001b[0m\u001b[0;32m     29\u001b[0m \u001b[0mBob\u001b[0m\u001b[1;33m.\u001b[0m\u001b[0mchange_age\u001b[0m\u001b[1;33m(\u001b[0m\u001b[1;36m34\u001b[0m\u001b[1;33m)\u001b[0m\u001b[1;33m\u001b[0m\u001b[1;33m\u001b[0m\u001b[0m\n\u001b[0;32m     30\u001b[0m \u001b[0mBob\u001b[0m\u001b[1;33m.\u001b[0m\u001b[0mchange_track\u001b[0m\u001b[1;33m(\u001b[0m\u001b[1;34m\"UI/UX\"\u001b[0m\u001b[1;33m)\u001b[0m\u001b[1;33m\u001b[0m\u001b[1;33m\u001b[0m\u001b[0m\n",
      "\u001b[1;31mTypeError\u001b[0m: 'str' object is not callable"
     ]
    }
   ],
   "source": [
    "class Student:\n",
    "    # [assignment] Skeleton class. Add your code here\n",
    "    def __init__(self, name, age, track, score):\n",
    "        self.change_name = str(name)\n",
    "        self.change_age = int(age)\n",
    "        self.change_track = list(track)\n",
    "        self.change_score = float(score)\n",
    "\n",
    "    def name(self, change_name):\n",
    "        self.change_name = change_name\n",
    "        print(change_name)\n",
    "    \n",
    "    def age(self, change_age):\n",
    "        self.change_age = change_age\n",
    "        print(change_age)\n",
    "    \n",
    "    def track(self, change_track):\n",
    "        self.change_track = change_track\n",
    "        print(change_track)\n",
    "    \n",
    "    def track(self, change_score):\n",
    "        self.change_score = change_score\n",
    "        print(change_score)\n",
    "\n",
    "Bob = Student(name=\"Bob\", age=26, track=[\"FE\",\"BE\"],score=20.90)\n",
    "\n",
    "# Expected methods\n",
    "Bob.change_name(\"Peter\")\n",
    "Bob.change_age(34)\n",
    "Bob.change_track(\"UI/UX\")\n",
    "Bob.change_score(2.5)"
   ]
  },
  {
   "cell_type": "code",
   "execution_count": 36,
   "id": "47c077a8",
   "metadata": {},
   "outputs": [
    {
     "name": "stdout",
     "output_type": "stream",
     "text": [
      "<bound method Student.track of <__main__.Student object at 0x00000145108980A0>>\n"
     ]
    }
   ],
   "source": [
    "print(Bob.track)"
   ]
  },
  {
   "cell_type": "code",
   "execution_count": null,
   "id": "3b8a3454",
   "metadata": {},
   "outputs": [],
   "source": []
  }
 ],
 "metadata": {
  "kernelspec": {
   "display_name": "Python 3 (ipykernel)",
   "language": "python",
   "name": "python3"
  },
  "language_info": {
   "codemirror_mode": {
    "name": "ipython",
    "version": 3
   },
   "file_extension": ".py",
   "mimetype": "text/x-python",
   "name": "python",
   "nbconvert_exporter": "python",
   "pygments_lexer": "ipython3",
   "version": "3.9.7"
  }
 },
 "nbformat": 4,
 "nbformat_minor": 5
}
