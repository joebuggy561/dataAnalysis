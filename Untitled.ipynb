{
 "cells": [
  {
   "cell_type": "code",
   "execution_count": 6,
   "id": "97ce0862",
   "metadata": {},
   "outputs": [
    {
     "name": "stdout",
     "output_type": "stream",
     "text": [
      "Enter your choice('R','S','P'): P\n",
      "Tie\n"
     ]
    }
   ],
   "source": [
    "import random\n",
    "user = input(\"Enter your choice('R','S','P'): \")\n",
    "user = user.upper()\n",
    "computer = random.choice(['R','S','P'])\n",
    "\n",
    "if user == computer:\n",
    "    print ('Tie')\n",
    "elif (user == 'R'and computer == 'S'):\n",
    "    print ('You Win')\n",
    "elif (user == 'P'and computer == 'R'):\n",
    "    print('You win')\n",
    "elif (user == 'S'and computer == 'P'):\n",
    "    print('You win')"
   ]
  },
  {
   "cell_type": "code",
   "execution_count": null,
   "id": "3adaef25",
   "metadata": {},
   "outputs": [
    {
     "name": "stdout",
     "output_type": "stream",
     "text": [
      "Enter your choice('R','S','P'): R\n",
      "you win\n",
      "Enter your choice('R','S','P'): P\n",
      "Its a Tie \n",
      " play again\n",
      "Enter your choice('R','S','P'): S\n",
      "you win\n",
      "Enter your choice('R','S','P'): H\n",
      "invalid number \n",
      " Try again\n",
      "Enter your choice('R','S','P'): G\n",
      "invalid number \n",
      " Try again\n",
      "Enter your choice('R','S','P'): U\n",
      "invalid number \n",
      " Try again\n",
      "Enter your choice('R','S','P'): S\n",
      "you win\n",
      "Enter your choice('R','S','P'): R\n",
      "you win\n",
      "Enter your choice('R','S','P'): P\n",
      "you win\n"
     ]
    }
   ],
   "source": [
    "import random\n",
    "\n",
    "while True:\n",
    "\n",
    "    user = input(\"Enter your choice('R','S','P'): \")\n",
    "    user = user.upper()\n",
    "    computer = random.choice(['R','S','P'])\n",
    "\n",
    "    if (user == computer):\n",
    "        print(\"Its a Tie \\n play again\")\n",
    "    elif(user == 'R' and computer== 'S') or (user == 'P' and computer== 'R') or (user == 'S' and computer == 'P'):\n",
    "        print(\"you win\")\n",
    "    elif(input != ['R','S','P']):\n",
    "        print(\"invalid number \\n Try again\")\n",
    "    else:\n",
    "        print(\"You loose\")"
   ]
  },
  {
   "cell_type": "code",
   "execution_count": 12,
   "id": "83e34e16",
   "metadata": {},
   "outputs": [
    {
     "name": "stdout",
     "output_type": "stream",
     "text": [
      "Enter your number: p\n",
      "Tie\n"
     ]
    }
   ],
   "source": [
    "import random\n",
    "\n",
    "def play():\n",
    "    user = input(\"Enter your number: \")\n",
    "    user = user.lower()\n",
    "    computer = random.choice(['r', 's', 'p'])\n",
    "\n",
    "    if user == computer:\n",
    "        return ('Tie')\n",
    "    elif (user == 'r'and computer == 's'):\n",
    "        return ('You Win')\n",
    "    elif (user == 'p'and computer == 'r'):\n",
    "        return('You win')\n",
    "    elif (user == 's'and computer == 'p'):\n",
    "        return('You win')\n",
    "    else:\n",
    "        return(False)\n",
    "\n",
    "if __name__ == '__main__':\n",
    "    print(play())\n",
    "\n"
   ]
  },
  {
   "cell_type": "code",
   "execution_count": null,
   "id": "71485e09",
   "metadata": {},
   "outputs": [],
   "source": []
  },
  {
   "cell_type": "code",
   "execution_count": null,
   "id": "16349398",
   "metadata": {},
   "outputs": [],
   "source": []
  }
 ],
 "metadata": {
  "kernelspec": {
   "display_name": "Python 3 (ipykernel)",
   "language": "python",
   "name": "python3"
  },
  "language_info": {
   "codemirror_mode": {
    "name": "ipython",
    "version": 3
   },
   "file_extension": ".py",
   "mimetype": "text/x-python",
   "name": "python",
   "nbconvert_exporter": "python",
   "pygments_lexer": "ipython3",
   "version": "3.9.7"
  }
 },
 "nbformat": 4,
 "nbformat_minor": 5
}
