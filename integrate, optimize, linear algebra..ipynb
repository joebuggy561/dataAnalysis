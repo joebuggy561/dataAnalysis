{
 "cells": [
  {
   "cell_type": "code",
   "execution_count": 6,
   "id": "06bb6e56",
   "metadata": {},
   "outputs": [
    {
     "name": "stdout",
     "output_type": "stream",
     "text": [
      "Collecting integrate\n",
      "  Downloading integrate-1.3.0.tar.gz (10 kB)\n",
      "  Preparing metadata (setup.py): started\n",
      "  Preparing metadata (setup.py): finished with status 'done'\n",
      "Using legacy 'setup.py install' for integrate, since package 'wheel' is not installed.\n",
      "Installing collected packages: integrate\n",
      "  Running setup.py install for integrate: started\n",
      "  Running setup.py install for integrate: finished with status 'done'\n",
      "Successfully installed integrate-1.3.0\n",
      "Note: you may need to restart the kernel to use updated packages.\n"
     ]
    }
   ],
   "source": [
    "pip install integrate"
   ]
  },
  {
   "cell_type": "code",
   "execution_count": null,
   "id": "cb925b8a",
   "metadata": {},
   "outputs": [],
   "source": [
    "#using intergrate in scipy"
   ]
  },
  {
   "cell_type": "code",
   "execution_count": 6,
   "id": "a5642fa7",
   "metadata": {},
   "outputs": [],
   "source": [
    "from scipy import integrate"
   ]
  },
  {
   "cell_type": "code",
   "execution_count": 9,
   "id": "1a0f4808",
   "metadata": {},
   "outputs": [
    {
     "data": {
      "text/plain": [
       "(3.0, 4.436070580899685e-14)"
      ]
     },
     "execution_count": 9,
     "metadata": {},
     "output_type": "execute_result"
    }
   ],
   "source": [
    "def  func(x,y):\n",
    "    return x + y\n",
    "integrate.dblquad(func, 0, 1, lambda x : 0, lambda x:2)"
   ]
  },
  {
   "cell_type": "code",
   "execution_count": 13,
   "id": "94c79378",
   "metadata": {},
   "outputs": [],
   "source": [
    "from scipy import optimize\n",
    "import numpy as np"
   ]
  },
  {
   "cell_type": "code",
   "execution_count": 14,
   "id": "59e8d60b",
   "metadata": {},
   "outputs": [],
   "source": [
    "def f(x):\n",
    "    return x**2 + 5*np.sin(x)\n",
    "    "
   ]
  },
  {
   "cell_type": "code",
   "execution_count": null,
   "id": "da8e3331",
   "metadata": {},
   "outputs": [],
   "source": [
    "#optimizing minmavalues in py"
   ]
  },
  {
   "cell_type": "code",
   "execution_count": 15,
   "id": "20483b8e",
   "metadata": {},
   "outputs": [
    {
     "name": "stdout",
     "output_type": "stream",
     "text": [
      "Optimization terminated successfully.\n",
      "         Current function value: -3.246394\n",
      "         Iterations: 5\n",
      "         Function evaluations: 18\n",
      "         Gradient evaluations: 9\n"
     ]
    }
   ],
   "source": [
    "minmaValue = optimize.minimize(f, x0=2, method = 'bfgs', options = {'disp':True})"
   ]
  },
  {
   "cell_type": "code",
   "execution_count": null,
   "id": "42ab4555",
   "metadata": {},
   "outputs": [],
   "source": [
    "#optimizing minmavalues in py without methods"
   ]
  },
  {
   "cell_type": "code",
   "execution_count": 17,
   "id": "ca0e5eb0",
   "metadata": {},
   "outputs": [
    {
     "data": {
      "text/plain": [
       "      fun: -3.2463942726915196\n",
       " hess_inv: array([[0.15445831]])\n",
       "      jac: array([-4.47034836e-07])\n",
       "  message: 'Optimization terminated successfully.'\n",
       "     nfev: 18\n",
       "      nit: 5\n",
       "     njev: 9\n",
       "   status: 0\n",
       "  success: True\n",
       "        x: array([-1.11051058])"
      ]
     },
     "execution_count": 17,
     "metadata": {},
     "output_type": "execute_result"
    }
   ],
   "source": [
    "minmaValue = optimize.minimize(f, x0 = 2, method = 'bfgs')\n",
    "minmaValue"
   ]
  },
  {
   "cell_type": "code",
   "execution_count": null,
   "id": "a98c9561",
   "metadata": {},
   "outputs": [],
   "source": [
    "#inverse of matrix"
   ]
  },
  {
   "cell_type": "code",
   "execution_count": 19,
   "id": "f8003f7b",
   "metadata": {},
   "outputs": [
    {
     "data": {
      "text/plain": [
       "array([[10,  6],\n",
       "       [ 2,  7]])"
      ]
     },
     "execution_count": 19,
     "metadata": {},
     "output_type": "execute_result"
    }
   ],
   "source": [
    "matrix  = np.array([[10, 6], [2,7]])\n",
    "matrix"
   ]
  },
  {
   "cell_type": "code",
   "execution_count": 21,
   "id": "b10f9241",
   "metadata": {},
   "outputs": [
    {
     "data": {
      "text/plain": [
       "array([[ 0.12068966, -0.10344828],\n",
       "       [-0.03448276,  0.17241379]])"
      ]
     },
     "execution_count": 21,
     "metadata": {},
     "output_type": "execute_result"
    }
   ],
   "source": [
    "from scipy import linalg\n",
    "linalg.inv(matrix)"
   ]
  },
  {
   "cell_type": "code",
   "execution_count": null,
   "id": "691aa0d3",
   "metadata": {},
   "outputs": [],
   "source": [
    "#finding the determinant"
   ]
  },
  {
   "cell_type": "code",
   "execution_count": 22,
   "id": "1c9f8a27",
   "metadata": {},
   "outputs": [
    {
     "data": {
      "text/plain": [
       "array([[4, 9],\n",
       "       [3, 5]])"
      ]
     },
     "execution_count": 22,
     "metadata": {},
     "output_type": "execute_result"
    }
   ],
   "source": [
    "matrix = np.array([[4,9], [3,5]])\n",
    "matrix"
   ]
  },
  {
   "cell_type": "code",
   "execution_count": 23,
   "id": "963288ec",
   "metadata": {},
   "outputs": [
    {
     "data": {
      "text/plain": [
       "-6.999999999999999"
      ]
     },
     "execution_count": 23,
     "metadata": {},
     "output_type": "execute_result"
    }
   ],
   "source": [
    "from scipy import linalg\n",
    "linalg.det(matrix)"
   ]
  },
  {
   "cell_type": "code",
   "execution_count": 24,
   "id": "17c11fa6",
   "metadata": {},
   "outputs": [
    {
     "data": {
      "text/plain": [
       "array([[ 2,  3,  1],\n",
       "       [-1,  5,  4],\n",
       "       [ 3,  2,  9]])"
      ]
     },
     "execution_count": 24,
     "metadata": {},
     "output_type": "execute_result"
    }
   ],
   "source": [
    "#solve linear systems\n",
    "numArray = np.array([[2,3,1], [-1,5,4], [3,2,9]])\n",
    "numArray"
   ]
  },
  {
   "cell_type": "code",
   "execution_count": 26,
   "id": "e1b9f8a3",
   "metadata": {},
   "outputs": [
    {
     "data": {
      "text/plain": [
       "array([21,  9,  6])"
      ]
     },
     "execution_count": 26,
     "metadata": {},
     "output_type": "execute_result"
    }
   ],
   "source": [
    "numArrayValue = np.array([21,9,6])\n",
    "numArrayValue"
   ]
  },
  {
   "cell_type": "code",
   "execution_count": 28,
   "id": "e15a1e0e",
   "metadata": {},
   "outputs": [
    {
     "data": {
      "text/plain": [
       "array([ 4.95,  4.35, -1.95])"
      ]
     },
     "execution_count": 28,
     "metadata": {},
     "output_type": "execute_result"
    }
   ],
   "source": [
    "from scipy import linalg\n",
    "linalg.solve(numArray, numArrayValue)"
   ]
  },
  {
   "cell_type": "code",
   "execution_count": null,
   "id": "585a7345",
   "metadata": {},
   "outputs": [],
   "source": [
    "#single value decomposition"
   ]
  },
  {
   "cell_type": "code",
   "execution_count": 29,
   "id": "d55dfeab",
   "metadata": {},
   "outputs": [],
   "source": [
    "numSvAddr = np.array([[3,5,1],[9,5,7]])"
   ]
  },
  {
   "cell_type": "code",
   "execution_count": 30,
   "id": "a0291d54",
   "metadata": {},
   "outputs": [
    {
     "data": {
      "text/plain": [
       "(2, 3)"
      ]
     },
     "execution_count": 30,
     "metadata": {},
     "output_type": "execute_result"
    }
   ],
   "source": [
    "numSvAddr.shape"
   ]
  },
  {
   "cell_type": "code",
   "execution_count": 31,
   "id": "fb460cd8",
   "metadata": {},
   "outputs": [
    {
     "data": {
      "text/plain": [
       "(array([[-0.37879831, -0.92547925],\n",
       "        [-0.92547925,  0.37879831]]),\n",
       " array([13.38464336,  3.29413449]),\n",
       " array([[-0.7072066 , -0.4872291 , -0.51231496],\n",
       "        [ 0.19208294, -0.82977932,  0.52399467],\n",
       "        [-0.68041382,  0.27216553,  0.68041382]]))"
      ]
     },
     "execution_count": 31,
     "metadata": {},
     "output_type": "execute_result"
    }
   ],
   "source": [
    "linalg.svd(numSvAddr)"
   ]
  },
  {
   "cell_type": "code",
   "execution_count": 32,
   "id": "7d69575a",
   "metadata": {},
   "outputs": [],
   "source": [
    "#eigenValues and Eigen Vectors"
   ]
  },
  {
   "cell_type": "code",
   "execution_count": 33,
   "id": "222ed4b0",
   "metadata": {},
   "outputs": [],
   "source": [
    "import numpy as np \n",
    "from scipy import linalg"
   ]
  },
  {
   "cell_type": "code",
   "execution_count": 35,
   "id": "d4ed1a1c",
   "metadata": {},
   "outputs": [],
   "source": [
    "test_data_matrix = np.array([[5,8], [7,9]])\n",
    "eigenValues, eigenVectors = linalg.eig(test_data_matrix)\n",
    "first_eigen, second_eigen = eigenValues"
   ]
  },
  {
   "cell_type": "code",
   "execution_count": 36,
   "id": "dd011356",
   "metadata": {},
   "outputs": [
    {
     "name": "stdout",
     "output_type": "stream",
     "text": [
      "(-0.745966692414834+0j) (14.745966692414834+0j)\n"
     ]
    }
   ],
   "source": [
    "print(first_eigen, second_eigen)"
   ]
  },
  {
   "cell_type": "code",
   "execution_count": 40,
   "id": "a0d8d997",
   "metadata": {},
   "outputs": [
    {
     "name": "stdout",
     "output_type": "stream",
     "text": [
      "[-0.81220939  0.58336601]\n"
     ]
    }
   ],
   "source": [
    "print(eigenVectors[:,0])"
   ]
  },
  {
   "cell_type": "code",
   "execution_count": 41,
   "id": "23da010a",
   "metadata": {},
   "outputs": [
    {
     "name": "stdout",
     "output_type": "stream",
     "text": [
      "[-0.63447346 -0.77294465]\n"
     ]
    }
   ],
   "source": [
    "print(eigenVectors[:,1])"
   ]
  },
  {
   "cell_type": "code",
   "execution_count": null,
   "id": "ffcedb9d",
   "metadata": {},
   "outputs": [],
   "source": [
    "# perform Cdf(cummulatice distribution frequency) and Pdf(probability density function)"
   ]
  },
  {
   "cell_type": "code",
   "execution_count": 42,
   "id": "9e81bbc1",
   "metadata": {},
   "outputs": [],
   "source": [
    "from scipy.stats import norm"
   ]
  },
  {
   "cell_type": "code",
   "execution_count": 43,
   "id": "6bfbae3a",
   "metadata": {},
   "outputs": [
    {
     "data": {
      "text/plain": [
       "array([ 0.18972353, -0.51782946,  0.12143544,  0.2803996 ,  0.20331306,\n",
       "       -2.00172366, -0.55186245, -0.07612275, -2.38377943,  1.05807367,\n",
       "        0.78323627, -0.70739315,  0.05230174,  1.09873981, -0.29747321,\n",
       "       -1.2523583 , -1.38041203,  1.12133479,  0.2222872 , -0.30653569])"
      ]
     },
     "execution_count": 43,
     "metadata": {},
     "output_type": "execute_result"
    }
   ],
   "source": [
    "norm.rvs(loc = 0, scale = 1, size = 20)"
   ]
  },
  {
   "cell_type": "code",
   "execution_count": 44,
   "id": "1e4e5fef",
   "metadata": {},
   "outputs": [
    {
     "data": {
      "text/plain": [
       "0.9986501019683699"
      ]
     },
     "execution_count": 44,
     "metadata": {},
     "output_type": "execute_result"
    }
   ],
   "source": [
    "norm.cdf(10, loc = 1, scale = 3)"
   ]
  },
  {
   "cell_type": "code",
   "execution_count": 45,
   "id": "a3dc6a6f",
   "metadata": {},
   "outputs": [
    {
     "data": {
      "text/plain": [
       "0.001477282803979336"
      ]
     },
     "execution_count": 45,
     "metadata": {},
     "output_type": "execute_result"
    }
   ],
   "source": [
    "norm.pdf(10, loc = 1, scale =3)"
   ]
  },
  {
   "cell_type": "code",
   "execution_count": 46,
   "id": "259846da",
   "metadata": {},
   "outputs": [],
   "source": [
    "#grading movies "
   ]
  },
  {
   "cell_type": "code",
   "execution_count": 47,
   "id": "aa58add3",
   "metadata": {},
   "outputs": [],
   "source": [
    "def movie_grade(rating):\n",
    "    if rating == 5:\n",
    "        return 'A'\n",
    "    if rating == 4:\n",
    "        return 'B'\n",
    "    if rating == 3:\n",
    "        return 'C'\n",
    "    else:\n",
    "        return 'F'\n",
    "        "
   ]
  },
  {
   "cell_type": "code",
   "execution_count": 48,
   "id": "828e68a2",
   "metadata": {},
   "outputs": [],
   "source": [
    "#group by"
   ]
  },
  {
   "cell_type": "code",
   "execution_count": null,
   "id": "4cdf65d7",
   "metadata": {},
   "outputs": [],
   "source": []
  }
 ],
 "metadata": {
  "kernelspec": {
   "display_name": "Python 3 (ipykernel)",
   "language": "python",
   "name": "python3"
  },
  "language_info": {
   "codemirror_mode": {
    "name": "ipython",
    "version": 3
   },
   "file_extension": ".py",
   "mimetype": "text/x-python",
   "name": "python",
   "nbconvert_exporter": "python",
   "pygments_lexer": "ipython3",
   "version": "3.10.4"
  }
 },
 "nbformat": 4,
 "nbformat_minor": 5
}
