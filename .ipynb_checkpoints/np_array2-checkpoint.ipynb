{
 "cells": [
  {
   "cell_type": "markdown",
   "id": "f9c5fcf7",
   "metadata": {},
   "source": [
    "##### Importing pandas and numpy with alias pd. and np."
   ]
  },
  {
   "cell_type": "code",
   "execution_count": 4,
   "id": "062ddc43",
   "metadata": {},
   "outputs": [],
   "source": [
    "import numpy as np\n",
    "import pandas as pd\n",
    "#data = pd.read_table(\"C:\\\\Users\\\\PureLight\\\\Desktop\\\\DS_simplilearn\\\\Lesson 5\\\\GDP dataset\\\\Countries with GDP.txt\")"
   ]
  },
  {
   "cell_type": "markdown",
   "id": "15b8e2bc",
   "metadata": {},
   "source": [
    "##### addding my list as a numpy array"
   ]
  },
  {
   "cell_type": "code",
   "execution_count": 13,
   "id": "fce5d350",
   "metadata": {},
   "outputs": [],
   "source": [
    "country_gdp = np.array(['Algeria','Angola','Argentina','Australia','Austria','Bahamas','Bangladesh','Belarus',\n",
    "                        'Belgium','Bhutan','Brazil','Bulgaria','Cambodia','Cameroon','Chile','China','Colombia',\n",
    "                        'Cyprus','Denmark','El Salvador','Estonia','Ethiopia','Fiji','Finland','France','Georgia',\n",
    "                        'Ghana','Grenada','Guinea','Haiti','Honduras','Hungary','India','Indonesia','Ireland',\n",
    "                        'Italy','Japan','Kenya', 'South Korea','Liberia','Malaysia','Mexico', 'Morocco','Nepal',\n",
    "                        'New Zealand','Norway','Pakistan', 'Peru','Qatar','Russia','Singapore','South Africa',\n",
    "                        'Spain','Sweden','Switzerland','Thailand', 'United Arab Emirates','United Kingdom',\n",
    "                        'United States','Uruguay','Venezuela','Vietnam','Zimbabwe'])\n",
    "\n",
    "gdp_per_country = np.array([2255.225482,629.9553062,11601.63022,25306.82494,27266.40335,19466.99052,588.3691778,\n",
    "                            2890.345675,24733.62696,1445.760002,4803.398244,2618.876037,590.4521124,665.7982328,\n",
    "                            7122.938458,2639.54156,3362.4656,15378.16704,30860.12808,2579.115607,6525.541272,229.6769525,\n",
    "                            2242.689259,27570.4852,23016.84778,1334.646773,402.6953275,6047.200797,394.1156638,385.5793827,\n",
    "                            1414.072488,5745.981529,837.7464011,1206.991065,27715.52837,18937.24998,39578.07441,\n",
    "                            478.2194906,16684.21278,279.2204061,5345.213415,6288.25324,1908.304416,274.8728621,\n",
    "                            14646.42094,40034.85063,672.1547506,3359.517402,36152.66676,3054.727742,33529.83052,\n",
    "                            3825.093781,15428.32098,33630.24604,39170.41371,2699.123242,21058.43643,28272.40661,\n",
    "                            37691.02733,9581.05659,5671.912202,757.4009286,347.7456605])"
   ]
  },
  {
   "cell_type": "code",
   "execution_count": null,
   "id": "7b14524e",
   "metadata": {},
   "outputs": [],
   "source": []
  },
  {
   "cell_type": "markdown",
   "id": "9403a4de",
   "metadata": {},
   "source": []
  },
  {
   "cell_type": "code",
   "execution_count": 20,
   "id": "4198e5d1",
   "metadata": {},
   "outputs": [
    {
     "data": {
      "text/plain": [
       "45"
      ]
     },
     "execution_count": 20,
     "metadata": {},
     "output_type": "execute_result"
    }
   ],
   "source": [
    "max_gdp_per_capital = gdp_per_country.argmax()\n",
    "max_gdp_per_capital"
   ]
  },
  {
   "cell_type": "code",
   "execution_count": 24,
   "id": "438e4444",
   "metadata": {},
   "outputs": [
    {
     "data": {
      "text/plain": [
       "'Norway'"
      ]
     },
     "execution_count": 24,
     "metadata": {},
     "output_type": "execute_result"
    }
   ],
   "source": [
    "country_with_max_gdp = country_gdp[max_gdp_per_capital]\n",
    "country_with_max_gdp"
   ]
  },
  {
   "cell_type": "code",
   "execution_count": null,
   "id": "3db4b859",
   "metadata": {},
   "outputs": [],
   "source": []
  },
  {
   "cell_type": "code",
   "execution_count": null,
   "id": "72a35dab",
   "metadata": {},
   "outputs": [],
   "source": []
  }
 ],
 "metadata": {
  "kernelspec": {
   "display_name": "Python 3 (ipykernel)",
   "language": "python",
   "name": "python3"
  },
  "language_info": {
   "codemirror_mode": {
    "name": "ipython",
    "version": 3
   },
   "file_extension": ".py",
   "mimetype": "text/x-python",
   "name": "python",
   "nbconvert_exporter": "python",
   "pygments_lexer": "ipython3",
   "version": "3.10.4"
  }
 },
 "nbformat": 4,
 "nbformat_minor": 5
}
