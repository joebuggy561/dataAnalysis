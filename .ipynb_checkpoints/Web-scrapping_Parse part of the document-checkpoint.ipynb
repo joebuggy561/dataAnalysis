{
 "cells": [
  {
   "cell_type": "code",
   "execution_count": 1,
   "id": "902db970",
   "metadata": {},
   "outputs": [],
   "source": [
    "from bs4 import BeautifulSoup"
   ]
  },
  {
   "cell_type": "code",
   "execution_count": 2,
   "id": "670b681e",
   "metadata": {},
   "outputs": [],
   "source": [
    "data_SL = \"\"\"<ul class= \"content-col_discover\">\n",
    "<h5>Discover</h5>\n",
    "<li><a herf= \"/resources\" id = \"free_resources\">Free resources</a></li>\n",
    "<li><a herf= \"http://community.simplilearn.com/\" id = \"community\">Simplilearn community</a></li>\n",
    "<li><a herf= \"/caeer-data-labs\" id = \"labs\">Career data labs</a></li>\n",
    "<li><a herf = \"/scholarship for vetrans\" id = \"scholarship\">Vetrans Scholarship</a></li>\n",
    "<li><a herf = \"http://www.simplilearn.com/feed/\" id = \"rss\">RSS Feed</a></li>\n",
    "</ul>\"\"\""
   ]
  },
  {
   "cell_type": "code",
   "execution_count": 3,
   "id": "b8a1ac7a",
   "metadata": {},
   "outputs": [],
   "source": [
    "soup_SL = BeautifulSoup(data_SL, 'html.parser')"
   ]
  },
  {
   "cell_type": "code",
   "execution_count": 4,
   "id": "89740310",
   "metadata": {},
   "outputs": [
    {
     "name": "stdout",
     "output_type": "stream",
     "text": [
      "\n",
      "Discover\n",
      "Free resources\n",
      "Simplilearn community\n",
      "Career data labs\n",
      "Vetrans Scholarship\n",
      "RSS Feed\n",
      "\n"
     ]
    }
   ],
   "source": [
    "print(soup_SL.get_text())"
   ]
  },
  {
   "cell_type": "code",
   "execution_count": 24,
   "id": "7b788ac2",
   "metadata": {},
   "outputs": [],
   "source": [
    "from bs4 import SoupStrainer"
   ]
  },
  {
   "cell_type": "code",
   "execution_count": 29,
   "id": "41bcf697",
   "metadata": {},
   "outputs": [],
   "source": [
    "tags_with_Lablink = SoupStrainer(id = \"labs\")"
   ]
  },
  {
   "cell_type": "code",
   "execution_count": 30,
   "id": "15d60b1f",
   "metadata": {},
   "outputs": [
    {
     "name": "stdout",
     "output_type": "stream",
     "text": [
      "None|{'id': 'labs'}\n"
     ]
    }
   ],
   "source": [
    "print(tags_with_Lablink)"
   ]
  },
  {
   "cell_type": "code",
   "execution_count": 32,
   "id": "b86608b9",
   "metadata": {},
   "outputs": [
    {
     "name": "stdout",
     "output_type": "stream",
     "text": [
      "<a herf=\"/caeer-data-labs\" id=\"labs\">\n",
      " Career data labs\n",
      "</a>\n"
     ]
    }
   ],
   "source": [
    "print(BeautifulSoup(data_SL,'html.parser',parse_only = tags_with_Lablink).prettify())"
   ]
  },
  {
   "cell_type": "code",
   "execution_count": null,
   "id": "302fc5d2",
   "metadata": {},
   "outputs": [],
   "source": []
  }
 ],
 "metadata": {
  "kernelspec": {
   "display_name": "Python 3 (ipykernel)",
   "language": "python",
   "name": "python3"
  },
  "language_info": {
   "codemirror_mode": {
    "name": "ipython",
    "version": 3
   },
   "file_extension": ".py",
   "mimetype": "text/x-python",
   "name": "python",
   "nbconvert_exporter": "python",
   "pygments_lexer": "ipython3",
   "version": "3.10.4"
  }
 },
 "nbformat": 4,
 "nbformat_minor": 5
}
