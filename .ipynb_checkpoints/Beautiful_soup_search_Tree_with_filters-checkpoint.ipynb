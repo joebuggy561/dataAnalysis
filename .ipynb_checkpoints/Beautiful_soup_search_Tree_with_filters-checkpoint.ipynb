{
 "cells": [
  {
   "cell_type": "code",
   "execution_count": 1,
   "id": "1ba2d9aa",
   "metadata": {},
   "outputs": [],
   "source": [
    "from bs4 import BeautifulSoup"
   ]
  },
  {
   "cell_type": "code",
   "execution_count": 2,
   "id": "fb36d8ac",
   "metadata": {},
   "outputs": [],
   "source": [
    "#import the web scrapping example file change as per the path of your html file"
   ]
  },
  {
   "cell_type": "code",
   "execution_count": 3,
   "id": "6d0c0c29",
   "metadata": {},
   "outputs": [],
   "source": [
    "#view the content of the soup object"
   ]
  },
  {
   "cell_type": "code",
   "execution_count": 4,
   "id": "974edb4e",
   "metadata": {},
   "outputs": [],
   "source": [
    "#search using find method"
   ]
  },
  {
   "cell_type": "code",
   "execution_count": 5,
   "id": "1f1da501",
   "metadata": {},
   "outputs": [],
   "source": [
    "#print the tag"
   ]
  },
  {
   "cell_type": "code",
   "execution_count": 6,
   "id": "77337b6d",
   "metadata": {},
   "outputs": [],
   "source": [
    "#search the document using the find method for an argument\""
   ]
  },
  {
   "cell_type": "code",
   "execution_count": 7,
   "id": "7f6690dc",
   "metadata": {},
   "outputs": [],
   "source": [
    "#print the find ID object"
   ]
  },
  {
   "cell_type": "code",
   "execution_count": 8,
   "id": "a3db5d30",
   "metadata": {},
   "outputs": [],
   "source": [
    "#print the string value"
   ]
  },
  {
   "cell_type": "code",
   "execution_count": 9,
   "id": "5896003f",
   "metadata": {},
   "outputs": [],
   "source": [
    "#search using the string only"
   ]
  },
  {
   "cell_type": "code",
   "execution_count": 10,
   "id": "12284bc5",
   "metadata": {},
   "outputs": [],
   "source": [
    "#print the search vaules"
   ]
  },
  {
   "cell_type": "code",
   "execution_count": 11,
   "id": "44905daf",
   "metadata": {},
   "outputs": [],
   "source": [
    "#search based on the css class names(present as an attribute)"
   ]
  },
  {
   "cell_type": "code",
   "execution_count": 12,
   "id": "f29ede5b",
   "metadata": {},
   "outputs": [],
   "source": [
    "#create a function to search the document based upon the tag pased in a parameter"
   ]
  },
  {
   "cell_type": "code",
   "execution_count": 13,
   "id": "e8b6d734",
   "metadata": {},
   "outputs": [],
   "source": [
    "#search the document using function and print it"
   ]
  },
  {
   "cell_type": "code",
   "execution_count": 14,
   "id": "cb7b8446",
   "metadata": {},
   "outputs": [],
   "source": [
    "#print the tag name using True - which returns all the tags present in the document"
   ]
  },
  {
   "cell_type": "code",
   "execution_count": 15,
   "id": "aad5e7f7",
   "metadata": {},
   "outputs": [],
   "source": [
    "#search using the findall method for the given class"
   ]
  },
  {
   "cell_type": "code",
   "execution_count": 16,
   "id": "3ee216fe",
   "metadata": {},
   "outputs": [],
   "source": [
    "#view the type of the class"
   ]
  },
  {
   "cell_type": "code",
   "execution_count": 17,
   "id": "8b971150",
   "metadata": {},
   "outputs": [],
   "source": [
    "#print the second result set"
   ]
  },
  {
   "cell_type": "code",
   "execution_count": 18,
   "id": "85430605",
   "metadata": {},
   "outputs": [],
   "source": [
    "#print the second result set"
   ]
  },
  {
   "cell_type": "code",
   "execution_count": 19,
   "id": "c3c76830",
   "metadata": {},
   "outputs": [],
   "source": [
    "##find parent using parent method"
   ]
  },
  {
   "cell_type": "code",
   "execution_count": 20,
   "id": "5a1e3e1c",
   "metadata": {},
   "outputs": [],
   "source": [
    "#now use find method to search based on id"
   ]
  },
  {
   "cell_type": "code",
   "execution_count": 21,
   "id": "4e81f4db",
   "metadata": {},
   "outputs": [],
   "source": [
    "#find the next siblings"
   ]
  },
  {
   "cell_type": "code",
   "execution_count": 22,
   "id": "1a7d0be9",
   "metadata": {},
   "outputs": [],
   "source": [
    "#print parents"
   ]
  },
  {
   "cell_type": "code",
   "execution_count": 24,
   "id": "cfcce3d7",
   "metadata": {},
   "outputs": [],
   "source": [
    "#find and print previous"
   ]
  },
  {
   "cell_type": "code",
   "execution_count": 25,
   "id": "1fac0894",
   "metadata": {},
   "outputs": [],
   "source": [
    "#print the search object"
   ]
  },
  {
   "cell_type": "code",
   "execution_count": 26,
   "id": "f93087ab",
   "metadata": {},
   "outputs": [],
   "source": [
    "#find the next sibling"
   ]
  },
  {
   "cell_type": "code",
   "execution_count": 27,
   "id": "77c2b5e7",
   "metadata": {},
   "outputs": [],
   "source": [
    "#print parent"
   ]
  },
  {
   "cell_type": "code",
   "execution_count": 28,
   "id": "b3bf033a",
   "metadata": {},
   "outputs": [],
   "source": [
    "#find and print previous"
   ]
  },
  {
   "cell_type": "code",
   "execution_count": 29,
   "id": "25dbe686",
   "metadata": {},
   "outputs": [],
   "source": [
    "#search and print previous sibling"
   ]
  },
  {
   "cell_type": "code",
   "execution_count": 30,
   "id": "0777482b",
   "metadata": {},
   "outputs": [],
   "source": [
    "#search and print all next"
   ]
  },
  {
   "cell_type": "code",
   "execution_count": 32,
   "id": "5c5600f0",
   "metadata": {},
   "outputs": [],
   "source": [
    "#use regular expression to search the document\n",
    "#use complie method to compile the information which contains regular expression\n",
    "#find and print email id using regular expression"
   ]
  },
  {
   "cell_type": "code",
   "execution_count": null,
   "id": "54cfdb4a",
   "metadata": {},
   "outputs": [],
   "source": []
  }
 ],
 "metadata": {
  "kernelspec": {
   "display_name": "Python 3 (ipykernel)",
   "language": "python",
   "name": "python3"
  },
  "language_info": {
   "codemirror_mode": {
    "name": "ipython",
    "version": 3
   },
   "file_extension": ".py",
   "mimetype": "text/x-python",
   "name": "python",
   "nbconvert_exporter": "python",
   "pygments_lexer": "ipython3",
   "version": "3.10.4"
  }
 },
 "nbformat": 4,
 "nbformat_minor": 5
}
