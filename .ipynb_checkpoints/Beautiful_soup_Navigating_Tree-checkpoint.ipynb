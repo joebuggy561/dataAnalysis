{
 "cells": [
  {
   "cell_type": "code",
   "execution_count": 1,
   "id": "b9427fef",
   "metadata": {},
   "outputs": [],
   "source": [
    "from bs4 import BeautifulSoup"
   ]
  },
  {
   "cell_type": "code",
   "execution_count": 2,
   "id": "056586be",
   "metadata": {},
   "outputs": [],
   "source": [
    "book_html_doc = \"\"\"<catalog>\n",
    "<head><title>The web book catalouge</title></head>\n",
    "<p class= \"title\"><b>The Book Catlogue</b></p>\n",
    "<books>\n",
    "<book id = \"bk001\">\n",
    "<author>Hightower, kim</author>\n",
    "<title>The First, Book</title>\n",
    "<genre>Fiction</gener>\n",
    "<price>44.95</price>\n",
    "<pub_date>2000-10-01</pub_date>\n",
    "<review>An amazing story of nothing</review>\n",
    "</book>\n",
    "<book id = \"bk002\">\n",
    "<author>Nagata, Suanne</author>\n",
    "<title>Becoming Somebody</title>\n",
    "<genre>Biography</gener>\n",
    "<review>A master piece of fine art of gossiping</review>\n",
    "</book>\n",
    "<book id = \"bk003\">\n",
    "<author>Oberg,  Bruce</author>\n",
    "<title>The Poet's First Poem</title>\n",
    "<genre>Poem</gener>\n",
    "<price>24.95</price>\n",
    "<pub_date>2000-10-01</pub_date>\n",
    "<review>The least poetic poems of the decade</review>\n",
    "</book>\n",
    "</books>\n",
    "</catalog>\"\"\""
   ]
  },
  {
   "cell_type": "code",
   "execution_count": 3,
   "id": "d87453a9",
   "metadata": {},
   "outputs": [],
   "source": [
    "book_soup = BeautifulSoup(book_html_doc, 'html.parser')"
   ]
  },
  {
   "cell_type": "code",
   "execution_count": 4,
   "id": "b2932379",
   "metadata": {},
   "outputs": [
    {
     "name": "stdout",
     "output_type": "stream",
     "text": [
      "<catalog>\n",
      "<head><title>The web book catalouge</title></head>\n",
      "<p class=\"title\"><b>The Book Catlogue</b></p>\n",
      "<books>\n",
      "<book id=\"bk001\">\n",
      "<author>Hightower, kim</author>\n",
      "<title>The First, Book</title>\n",
      "<genre>Fiction\n",
      "<price>44.95</price>\n",
      "<pub_date>2000-10-01</pub_date>\n",
      "<review>An amazing story of nothing</review>\n",
      "</genre></book>\n",
      "<book id=\"bk002\">\n",
      "<author>Nagata, Suanne</author>\n",
      "<title>Becoming Somebody</title>\n",
      "<genre>Biography\n",
      "<review>A master piece of fine art of gossiping</review>\n",
      "</genre></book>\n",
      "<book id=\"bk003\">\n",
      "<author>Oberg,  Bruce</author>\n",
      "<title>The Poet's First Poem</title>\n",
      "<genre>Poem\n",
      "<price>24.95</price>\n",
      "<pub_date>2000-10-01</pub_date>\n",
      "<review>The least poetic poems of the decade</review>\n",
      "</genre></book>\n",
      "</books>\n",
      "</catalog>\n"
     ]
    }
   ],
   "source": [
    "print(book_soup.catalog)"
   ]
  },
  {
   "cell_type": "code",
   "execution_count": 5,
   "id": "70a7fd9d",
   "metadata": {},
   "outputs": [
    {
     "data": {
      "text/plain": [
       "[<title>The web book catalouge</title>]"
      ]
     },
     "execution_count": 5,
     "metadata": {},
     "output_type": "execute_result"
    }
   ],
   "source": [
    "book_soup.head()"
   ]
  },
  {
   "cell_type": "code",
   "execution_count": 7,
   "id": "4ebd6259",
   "metadata": {},
   "outputs": [
    {
     "data": {
      "text/plain": [
       "<title>The web book catalouge</title>"
      ]
     },
     "execution_count": 7,
     "metadata": {},
     "output_type": "execute_result"
    }
   ],
   "source": [
    "title_tag = book_soup.title\n",
    "title_tag"
   ]
  },
  {
   "cell_type": "code",
   "execution_count": 11,
   "id": "a6d473cf",
   "metadata": {},
   "outputs": [
    {
     "name": "stdout",
     "output_type": "stream",
     "text": [
      "<p class=\"title\"><b>The Book Catlogue</b></p>\n"
     ]
    }
   ],
   "source": [
    "print(book_soup.catalog.p)"
   ]
  },
  {
   "cell_type": "code",
   "execution_count": 16,
   "id": "c012b632",
   "metadata": {},
   "outputs": [
    {
     "name": "stdout",
     "output_type": "stream",
     "text": [
      "<title>The web book catalouge</title>\n",
      "The web book catalouge\n"
     ]
    }
   ],
   "source": [
    "for descen in book_soup.head.descendants:\n",
    "    print(descen)"
   ]
  },
  {
   "cell_type": "code",
   "execution_count": 17,
   "id": "f61117f5",
   "metadata": {},
   "outputs": [
    {
     "name": "stdout",
     "output_type": "stream",
     "text": [
      "The web book catalouge\n",
      "The Book Catlogue\n",
      "Hightower, kim\n",
      "The First, Book\n",
      "Fiction\n",
      "44.95\n",
      "2000-10-01\n",
      "An amazing story of nothing\n",
      "Nagata, Suanne\n",
      "Becoming Somebody\n",
      "Biography\n",
      "A master piece of fine art of gossiping\n",
      "Oberg,  Bruce\n",
      "The Poet's First Poem\n",
      "Poem\n",
      "24.95\n",
      "2000-10-01\n",
      "The least poetic poems of the decade\n"
     ]
    }
   ],
   "source": [
    "#to navigate up\n",
    "for string in book_soup.stripped_strings:\n",
    "    print(string)"
   ]
  },
  {
   "cell_type": "code",
   "execution_count": 19,
   "id": "d8c9bf17",
   "metadata": {},
   "outputs": [
    {
     "data": {
      "text/plain": [
       "<head><title>The web book catalouge</title></head>"
      ]
     },
     "execution_count": 19,
     "metadata": {},
     "output_type": "execute_result"
    }
   ],
   "source": [
    "#to navigate up\n",
    "title_tag.parent"
   ]
  },
  {
   "cell_type": "code",
   "execution_count": 20,
   "id": "14c89997",
   "metadata": {},
   "outputs": [],
   "source": [
    "element_soup = book_soup.catalog.books"
   ]
  },
  {
   "cell_type": "code",
   "execution_count": 22,
   "id": "ca075150",
   "metadata": {},
   "outputs": [
    {
     "data": {
      "text/plain": [
       "<book id=\"bk001\">\n",
       "<author>Hightower, kim</author>\n",
       "<title>The First, Book</title>\n",
       "<genre>Fiction\n",
       "<price>44.95</price>\n",
       "<pub_date>2000-10-01</pub_date>\n",
       "<review>An amazing story of nothing</review>\n",
       "</genre></book>"
      ]
     },
     "execution_count": 22,
     "metadata": {},
     "output_type": "execute_result"
    }
   ],
   "source": [
    "next_element = element_soup.next_element.next_element\n",
    "next_element"
   ]
  },
  {
   "cell_type": "code",
   "execution_count": 28,
   "id": "53acfb48",
   "metadata": {},
   "outputs": [
    {
     "data": {
      "text/plain": [
       "<books>\n",
       "<book id=\"bk001\">\n",
       "<author>Hightower, kim</author>\n",
       "<title>The First, Book</title>\n",
       "<genre>Fiction\n",
       "<price>44.95</price>\n",
       "<pub_date>2000-10-01</pub_date>\n",
       "<review>An amazing story of nothing</review>\n",
       "</genre></book>\n",
       "<book id=\"bk002\">\n",
       "<author>Nagata, Suanne</author>\n",
       "<title>Becoming Somebody</title>\n",
       "<genre>Biography\n",
       "<review>A master piece of fine art of gossiping</review>\n",
       "</genre></book>\n",
       "<book id=\"bk003\">\n",
       "<author>Oberg,  Bruce</author>\n",
       "<title>The Poet's First Poem</title>\n",
       "<genre>Poem\n",
       "<price>24.95</price>\n",
       "<pub_date>2000-10-01</pub_date>\n",
       "<review>The least poetic poems of the decade</review>\n",
       "</genre></book>\n",
       "</books>"
      ]
     },
     "execution_count": 28,
     "metadata": {},
     "output_type": "execute_result"
    }
   ],
   "source": [
    "previous_element = next_element.previous_element.previous_element\n",
    "previous_element"
   ]
  },
  {
   "cell_type": "code",
   "execution_count": 40,
   "id": "a8d8228c",
   "metadata": {},
   "outputs": [
    {
     "data": {
      "text/plain": [
       "<book id=\"bk001\">\n",
       "<author>Hightower, kim</author>\n",
       "<title>The First, Book</title>\n",
       "<genre>Fiction\n",
       "<price>44.95</price>\n",
       "<pub_date>2000-10-01</pub_date>\n",
       "<review>An amazing story of nothing</review>\n",
       "</genre></book>"
      ]
     },
     "execution_count": 40,
     "metadata": {},
     "output_type": "execute_result"
    }
   ],
   "source": [
    "next_siblings = book_soup.catalog.books.book\n",
    "next_siblings"
   ]
  },
  {
   "cell_type": "code",
   "execution_count": 41,
   "id": "e0547eaa",
   "metadata": {},
   "outputs": [
    {
     "ename": "AttributeError",
     "evalue": "'generator' object has no attribute 'next_sibilings'",
     "output_type": "error",
     "traceback": [
      "\u001b[1;31m---------------------------------------------------------------------------\u001b[0m",
      "\u001b[1;31mAttributeError\u001b[0m                            Traceback (most recent call last)",
      "Input \u001b[1;32mIn [41]\u001b[0m, in \u001b[0;36m<cell line: 2>\u001b[1;34m()\u001b[0m\n\u001b[0;32m      1\u001b[0m next_siblings2 \u001b[38;5;241m=\u001b[39m next_siblings\u001b[38;5;241m.\u001b[39mnext_siblings\n\u001b[1;32m----> 2\u001b[0m \u001b[43mnext_siblings2\u001b[49m\u001b[38;5;241;43m.\u001b[39;49m\u001b[43mnext_sibilings\u001b[49m\n",
      "\u001b[1;31mAttributeError\u001b[0m: 'generator' object has no attribute 'next_sibilings'"
     ]
    }
   ],
   "source": [
    "next_siblings2 = next_siblings.next_siblings\n",
    "next_siblings2.next_sibilings"
   ]
  },
  {
   "cell_type": "code",
   "execution_count": 42,
   "id": "82c69c49",
   "metadata": {},
   "outputs": [
    {
     "ename": "AttributeError",
     "evalue": "'generator' object has no attribute 'previous_sibling'",
     "output_type": "error",
     "traceback": [
      "\u001b[1;31m---------------------------------------------------------------------------\u001b[0m",
      "\u001b[1;31mAttributeError\u001b[0m                            Traceback (most recent call last)",
      "Input \u001b[1;32mIn [42]\u001b[0m, in \u001b[0;36m<cell line: 1>\u001b[1;34m()\u001b[0m\n\u001b[1;32m----> 1\u001b[0m previous_siblings \u001b[38;5;241m=\u001b[39m \u001b[43mnext_siblings2\u001b[49m\u001b[38;5;241;43m.\u001b[39;49m\u001b[43mprevious_sibling\u001b[49m\n\u001b[0;32m      2\u001b[0m previous_siblings\n",
      "\u001b[1;31mAttributeError\u001b[0m: 'generator' object has no attribute 'previous_sibling'"
     ]
    }
   ],
   "source": [
    "previous_siblings = next_siblings2.previous_sibling\n",
    "previous_siblings"
   ]
  },
  {
   "cell_type": "code",
   "execution_count": null,
   "id": "61fb7995",
   "metadata": {},
   "outputs": [],
   "source": []
  }
 ],
 "metadata": {
  "kernelspec": {
   "display_name": "Python 3 (ipykernel)",
   "language": "python",
   "name": "python3"
  },
  "language_info": {
   "codemirror_mode": {
    "name": "ipython",
    "version": 3
   },
   "file_extension": ".py",
   "mimetype": "text/x-python",
   "name": "python",
   "nbconvert_exporter": "python",
   "pygments_lexer": "ipython3",
   "version": "3.10.4"
  }
 },
 "nbformat": 4,
 "nbformat_minor": 5
}
