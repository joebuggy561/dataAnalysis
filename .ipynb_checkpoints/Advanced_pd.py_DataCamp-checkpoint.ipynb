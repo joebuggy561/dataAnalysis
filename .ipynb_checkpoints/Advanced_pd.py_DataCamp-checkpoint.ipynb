{
 "cells": [
  {
   "cell_type": "markdown",
   "id": "6b9bbc0c",
   "metadata": {},
   "source": [
    "#inspecting a data frame"
   ]
  },
  {
   "cell_type": "code",
   "execution_count": null,
   "id": "e17ee59e",
   "metadata": {},
   "outputs": [],
   "source": [
    "print(homeless.head())"
   ]
  },
  {
   "cell_type": "code",
   "execution_count": null,
   "id": "94873fb5",
   "metadata": {},
   "outputs": [],
   "source": [
    "print(homeless.info())"
   ]
  },
  {
   "cell_type": "code",
   "execution_count": null,
   "id": "ffba5dea",
   "metadata": {},
   "outputs": [],
   "source": [
    "print(homeless.shape())"
   ]
  },
  {
   "cell_type": "code",
   "execution_count": null,
   "id": "04550574",
   "metadata": {},
   "outputs": [],
   "source": [
    "print(homeless.describe())"
   ]
  },
  {
   "cell_type": "markdown",
   "id": "3ac930e8",
   "metadata": {},
   "source": [
    "import pandas as pd"
   ]
  },
  {
   "cell_type": "code",
   "execution_count": null,
   "id": "0bcc6e5c",
   "metadata": {},
   "outputs": [],
   "source": [
    "print(homeless.values())"
   ]
  },
  {
   "cell_type": "code",
   "execution_count": null,
   "id": "1041befa",
   "metadata": {},
   "outputs": [],
   "source": [
    "print(homeless.columns)"
   ]
  },
  {
   "cell_type": "code",
   "execution_count": null,
   "id": "781eb54e",
   "metadata": {},
   "outputs": [],
   "source": [
    "print(homeless.index)"
   ]
  },
  {
   "cell_type": "markdown",
   "id": "e7b1c3dd",
   "metadata": {},
   "source": [
    "#subsetting in pd.py"
   ]
  },
  {
   "cell_type": "markdown",
   "id": "a6a75877",
   "metadata": {},
   "source": [
    "homelessness_ind = homelessness.sort_values('individuals')\n",
    "print(homelessness_ind.head())"
   ]
  },
  {
   "cell_type": "markdown",
   "id": "39aefee5",
   "metadata": {},
   "source": [
    "#sort homelessnes by decending order\n",
    "homelessness_fam = homelessness.sort_values('family_members', ascending = False)\n",
    "print(homelessness_fam.head())"
   ]
  },
  {
   "cell_type": "markdown",
   "id": "f20df46e",
   "metadata": {},
   "source": [
    "#homelessness by region then family\n",
    "homelessness_reg_fam = homelessness.sort_values([\"region\", \"family_members\"], ascending = [True, False])\n",
    "print(homelessness_reg_fam.head())"
   ]
  },
  {
   "cell_type": "code",
   "execution_count": null,
   "id": "8fbd96d2",
   "metadata": {},
   "outputs": [],
   "source": [
    "individuals = homelessness(['individuals'])\n",
    "print(individuals.hesd())"
   ]
  },
  {
   "cell_type": "code",
   "execution_count": null,
   "id": "2a406075",
   "metadata": {},
   "outputs": [],
   "source": [
    "ind_state = homelessness[['individuals', 'state']]\n",
    "print(ind_state())"
   ]
  },
  {
   "cell_type": "markdown",
   "id": "533870cf",
   "metadata": {},
   "source": [
    "ind_gt_10K = homelessness[homelessness['individuals']>10000]\n",
    "print(ind_gt_10K)"
   ]
  },
  {
   "cell_type": "markdown",
   "id": "50635f2e",
   "metadata": {},
   "source": [
    "mountain_reg = homelessness[homlessness['region']= 'mountain']\n",
    "print(mountain_reg)"
   ]
  },
  {
   "cell_type": "markdown",
   "id": "2d270a7e",
   "metadata": {},
   "source": [
    "fam_lt_1k_pac = homelessness[(homelessness['family_members']<1000)&(homelessness['region'] == 'Pacific')]\n",
    "print(fam_lt_1k_pac)"
   ]
  },
  {
   "cell_type": "markdown",
   "id": "6dc92548",
   "metadata": {},
   "source": [
    "south_mid_atlantic = homelessness[(homlessness['region'] == South_atlatic) | (homlessness['region'] == 'Mid_atlantic')]\n",
    "print(south_mid_atlantic)"
   ]
  },
  {
   "cell_type": "code",
   "execution_count": null,
   "id": "cb52bd92",
   "metadata": {},
   "outputs": [],
   "source": [
    "canu = [\"california\", \"arizona\", \"nevada\", \"utah\" ]\n",
    "mojave_homelessness = homelessness[homelessness['state'].isin(canu)]\n",
    "print(mojave_homelessness)"
   ]
  },
  {
   "cell_type": "code",
   "execution_count": null,
   "id": "c8c446d8",
   "metadata": {},
   "outputs": [],
   "source": [
    "#adding new column"
   ]
  },
  {
   "cell_type": "code",
   "execution_count": null,
   "id": "d0878f09",
   "metadata": {},
   "outputs": [],
   "source": [
    "homelessness[\"total\"] = homelessness['individuals'] + homelessness['family_members']\n"
   ]
  },
  {
   "cell_type": "code",
   "execution_count": null,
   "id": "73c2e754",
   "metadata": {},
   "outputs": [],
   "source": [
    "homelessness[\"p_individuals\"] = homelessness['individuals'] / homelessness['total']"
   ]
  },
  {
   "cell_type": "code",
   "execution_count": null,
   "id": "0312b847",
   "metadata": {},
   "outputs": [],
   "source": [
    "homelessness[\"indiv_per_10k\"] = 10000 * homelessness['individuals'] / homelessness['state_pop'] "
   ]
  },
  {
   "cell_type": "code",
   "execution_count": null,
   "id": "9a2cfe08",
   "metadata": {},
   "outputs": [],
   "source": [
    "high_homelessness = homelessness[homelessness['indiv_per_10k'] > 20]"
   ]
  },
  {
   "cell_type": "code",
   "execution_count": null,
   "id": "b97ec47e",
   "metadata": {},
   "outputs": [],
   "source": [
    "high_homelessness_srt = high_homelessness.sort_values('indiv_per_10k', ascending = False)"
   ]
  },
  {
   "cell_type": "code",
   "execution_count": null,
   "id": "678b9810",
   "metadata": {},
   "outputs": [],
   "source": [
    "result = high_homelessness_srt[['state', 'indiv_per_10k']]"
   ]
  },
  {
   "cell_type": "code",
   "execution_count": null,
   "id": "605550a3",
   "metadata": {},
   "outputs": [],
   "source": [
    "#summary atatistics"
   ]
  },
  {
   "cell_type": "code",
   "execution_count": null,
   "id": "92733b3f",
   "metadata": {},
   "outputs": [],
   "source": [
    "print(sales['weekly_sales'].mean())"
   ]
  },
  {
   "cell_type": "code",
   "execution_count": null,
   "id": "0de2d587",
   "metadata": {},
   "outputs": [],
   "source": [
    "print(sales['date'].max())"
   ]
  },
  {
   "cell_type": "code",
   "execution_count": null,
   "id": "207c20d3",
   "metadata": {},
   "outputs": [],
   "source": [
    "def iqr(column):\n",
    "    return column.quantile(0.75) - column.quantile(0.25)"
   ]
  },
  {
   "cell_type": "code",
   "execution_count": null,
   "id": "98e14842",
   "metadata": {},
   "outputs": [],
   "source": [
    "print(sales['temperature_c'].agg(iqr))"
   ]
  },
  {
   "cell_type": "code",
   "execution_count": null,
   "id": "2d408781",
   "metadata": {},
   "outputs": [],
   "source": [
    "def iqr(column):\n",
    "    return column.quantile(0.75) - column.quantile(0.25)"
   ]
  },
  {
   "cell_type": "code",
   "execution_count": null,
   "id": "6f327a77",
   "metadata": {},
   "outputs": [],
   "source": [
    "print(sales[[\"temperature_c\", \"fuel_price_usd_per_l\", \"unemployment\"]].agg(iqr))"
   ]
  },
  {
   "cell_type": "code",
   "execution_count": null,
   "id": "1d4b1502",
   "metadata": {},
   "outputs": [],
   "source": [
    "print(sales[[\"temperature_c\", \"fuel_price_usd_per_l\", \"unemployment\"]].agg([iqr, np.median]))"
   ]
  },
  {
   "cell_type": "code",
   "execution_count": null,
   "id": "ffc7f3d1",
   "metadata": {},
   "outputs": [],
   "source": [
    "#counting"
   ]
  },
  {
   "cell_type": "code",
   "execution_count": null,
   "id": "6cb9dccc",
   "metadata": {},
   "outputs": [],
   "source": [
    "store_types = sales.drop_duplicates(['store', 'type'])\n",
    "print(store_types.head())"
   ]
  },
  {
   "cell_type": "code",
   "execution_count": null,
   "id": "9a5fafdf",
   "metadata": {},
   "outputs": [],
   "source": [
    "store_depts = sales.drop_duplicates(['store', 'department'])\n",
    "print(store_depts.head())"
   ]
  },
  {
   "cell_type": "code",
   "execution_count": null,
   "id": "18561655",
   "metadata": {},
   "outputs": [],
   "source": [
    "holiday_dates = sales[sales[\"is_holiday\"]].drop_duplicates(\"date\")"
   ]
  },
  {
   "cell_type": "code",
   "execution_count": null,
   "id": "c4df2fcf",
   "metadata": {},
   "outputs": [],
   "source": [
    "store_props = store_types['type'].value_counts(normalize = True)\n",
    "print(store_props)"
   ]
  },
  {
   "cell_type": "code",
   "execution_count": null,
   "id": "19bd5f85",
   "metadata": {},
   "outputs": [],
   "source": [
    "dept_counts_sorted = store_depts['department'].value_counts(sort = True)\n",
    "print(dept_counts_sorted)\n"
   ]
  },
  {
   "cell_type": "code",
   "execution_count": null,
   "id": "9e1adbe0",
   "metadata": {},
   "outputs": [],
   "source": [
    "dept_props_sorted = store_depts['department'].value_counts(sort=True, normalize=True)\n",
    "print(dept_props_sorted)"
   ]
  },
  {
   "cell_type": "code",
   "execution_count": null,
   "id": "52f92b8e",
   "metadata": {},
   "outputs": [],
   "source": [
    "#Group statistics"
   ]
  },
  {
   "cell_type": "code",
   "execution_count": null,
   "id": "a0a51f76",
   "metadata": {},
   "outputs": [],
   "source": [
    "sales_all = sales[\"weekly_sales\"].sum()"
   ]
  },
  {
   "cell_type": "code",
   "execution_count": null,
   "id": "75dde92e",
   "metadata": {},
   "outputs": [],
   "source": [
    "sales_A = sales[sales[\"type\"] == \"A\"][\"weekly_sales\"].sum()"
   ]
  },
  {
   "cell_type": "code",
   "execution_count": null,
   "id": "763eb779",
   "metadata": {},
   "outputs": [],
   "source": [
    "sales_by_type = sales.groupby(\"type\")[\"weekly_sales\"].sum()"
   ]
  },
  {
   "cell_type": "code",
   "execution_count": null,
   "id": "d287d62b",
   "metadata": {},
   "outputs": [],
   "source": [
    "sales_by_type_is_holiday = sales.groupby([\"type\", \"is_holiday\"])[\"weekly_sales\"].sum()\n",
    "print(sales_by_type_is_holiday)"
   ]
  },
  {
   "cell_type": "code",
   "execution_count": null,
   "id": "b880763a",
   "metadata": {},
   "outputs": [],
   "source": [
    "sales_stats = sales_stats = sales.groupby(\"type\")[\"weekly_sales\"].agg([np.min, np.max, np.mean, np.median])"
   ]
  },
  {
   "cell_type": "code",
   "execution_count": null,
   "id": "e8784032",
   "metadata": {},
   "outputs": [],
   "source": [
    "unemp_fuel_stats = sales.groupby(\"type\")[[\"unemployment\", \"fuel_price_usd_per_l\"]].agg([np.min, np.max, np.mean, np.median])"
   ]
  },
  {
   "cell_type": "code",
   "execution_count": null,
   "id": "ab59e3a1",
   "metadata": {},
   "outputs": [],
   "source": [
    "#Pivot tables"
   ]
  },
  {
   "cell_type": "code",
   "execution_count": 27,
   "id": "6406554f",
   "metadata": {},
   "outputs": [],
   "source": [
    "import pandas as pd\n",
    "import numpy as np\n",
    "import random as rand\n",
    "from random import randint"
   ]
  },
  {
   "cell_type": "code",
   "execution_count": 40,
   "id": "573fd815",
   "metadata": {},
   "outputs": [],
   "source": [
    "df = ({\n",
    "    'Events' : ['ABC','DEF','GHI','JKL','ABC','DEF','GHI','JKL'],\n",
    "    'Number1' : ['xx','xx',1,'xx','xx','xx',2,'xx'],\n",
    "    'Number2' : [1,1,'xx',1,'xx',2,'xx',2]})\n",
    "df = pd.DataFrame(data = df)"
   ]
  },
  {
   "cell_type": "code",
   "execution_count": 41,
   "id": "874b0ca6",
   "metadata": {},
   "outputs": [
    {
     "data": {
      "text/html": [
       "<div>\n",
       "<style scoped>\n",
       "    .dataframe tbody tr th:only-of-type {\n",
       "        vertical-align: middle;\n",
       "    }\n",
       "\n",
       "    .dataframe tbody tr th {\n",
       "        vertical-align: top;\n",
       "    }\n",
       "\n",
       "    .dataframe thead th {\n",
       "        text-align: right;\n",
       "    }\n",
       "</style>\n",
       "<table border=\"1\" class=\"dataframe\">\n",
       "  <thead>\n",
       "    <tr style=\"text-align: right;\">\n",
       "      <th></th>\n",
       "      <th>Events</th>\n",
       "      <th>Number1</th>\n",
       "      <th>Number2</th>\n",
       "    </tr>\n",
       "  </thead>\n",
       "  <tbody>\n",
       "    <tr>\n",
       "      <th>0</th>\n",
       "      <td>ABC</td>\n",
       "      <td>xx</td>\n",
       "      <td>1</td>\n",
       "    </tr>\n",
       "    <tr>\n",
       "      <th>1</th>\n",
       "      <td>DEF</td>\n",
       "      <td>xx</td>\n",
       "      <td>1</td>\n",
       "    </tr>\n",
       "    <tr>\n",
       "      <th>2</th>\n",
       "      <td>GHI</td>\n",
       "      <td>1</td>\n",
       "      <td>xx</td>\n",
       "    </tr>\n",
       "    <tr>\n",
       "      <th>3</th>\n",
       "      <td>JKL</td>\n",
       "      <td>xx</td>\n",
       "      <td>1</td>\n",
       "    </tr>\n",
       "    <tr>\n",
       "      <th>4</th>\n",
       "      <td>ABC</td>\n",
       "      <td>xx</td>\n",
       "      <td>xx</td>\n",
       "    </tr>\n",
       "    <tr>\n",
       "      <th>5</th>\n",
       "      <td>DEF</td>\n",
       "      <td>xx</td>\n",
       "      <td>2</td>\n",
       "    </tr>\n",
       "    <tr>\n",
       "      <th>6</th>\n",
       "      <td>GHI</td>\n",
       "      <td>2</td>\n",
       "      <td>xx</td>\n",
       "    </tr>\n",
       "    <tr>\n",
       "      <th>7</th>\n",
       "      <td>JKL</td>\n",
       "      <td>xx</td>\n",
       "      <td>2</td>\n",
       "    </tr>\n",
       "  </tbody>\n",
       "</table>\n",
       "</div>"
      ],
      "text/plain": [
       "  Events Number1 Number2\n",
       "0    ABC      xx       1\n",
       "1    DEF      xx       1\n",
       "2    GHI       1      xx\n",
       "3    JKL      xx       1\n",
       "4    ABC      xx      xx\n",
       "5    DEF      xx       2\n",
       "6    GHI       2      xx\n",
       "7    JKL      xx       2"
      ]
     },
     "execution_count": 41,
     "metadata": {},
     "output_type": "execute_result"
    }
   ],
   "source": [
    "df"
   ]
  },
  {
   "cell_type": "code",
   "execution_count": 42,
   "id": "4e771773",
   "metadata": {},
   "outputs": [
    {
     "name": "stderr",
     "output_type": "stream",
     "text": [
      "C:\\Users\\PureLight\\AppData\\Local\\Temp\\ipykernel_8132\\1586254318.py:1: FutureWarning: Dropping invalid columns in DataFrameGroupBy.mean is deprecated. In a future version, a TypeError will be raised. Before calling .mean, select only columns which should be valid for the function.\n",
      "  df_pv = df.pivot_table(values = 'Number1', index = 'Number2', columns = 'Events').mean()\n"
     ]
    }
   ],
   "source": [
    "df_pv = df.pivot_table(values = 'Number1', index = 'Number2', columns = 'Events').mean()"
   ]
  },
  {
   "cell_type": "code",
   "execution_count": 39,
   "id": "8ccd3218",
   "metadata": {},
   "outputs": [
    {
     "data": {
      "text/plain": [
       "Series([], dtype: float64)"
      ]
     },
     "execution_count": 39,
     "metadata": {},
     "output_type": "execute_result"
    }
   ],
   "source": [
    "df_pv"
   ]
  },
  {
   "cell_type": "code",
   "execution_count": 35,
   "id": "dda328ea",
   "metadata": {},
   "outputs": [],
   "source": [
    "#setting and removing indexes"
   ]
  },
  {
   "cell_type": "code",
   "execution_count": null,
   "id": "fad9fb41",
   "metadata": {},
   "outputs": [],
   "source": [
    "temperatures_ind = temperatures.set_index('city')"
   ]
  },
  {
   "cell_type": "code",
   "execution_count": null,
   "id": "7af52364",
   "metadata": {},
   "outputs": [],
   "source": [
    "print(temperatures_ind.reset_index())"
   ]
  },
  {
   "cell_type": "code",
   "execution_count": null,
   "id": "0d6cbfe6",
   "metadata": {},
   "outputs": [],
   "source": [
    "print(temperatures_ind.reset_index(drop = True))"
   ]
  },
  {
   "cell_type": "code",
   "execution_count": null,
   "id": "cd12fa6d",
   "metadata": {},
   "outputs": [],
   "source": [
    "cities = [\"Moscow\", \"Saint Petersburg\"]"
   ]
  },
  {
   "cell_type": "code",
   "execution_count": null,
   "id": "692f3718",
   "metadata": {},
   "outputs": [],
   "source": [
    "print(temperatures[temperatures[\"city\"].isin(cities)])"
   ]
  },
  {
   "cell_type": "code",
   "execution_count": null,
   "id": "079ce712",
   "metadata": {},
   "outputs": [],
   "source": [
    "print(temperatures_ind.loc[cities])"
   ]
  },
  {
   "cell_type": "code",
   "execution_count": null,
   "id": "3fce4613",
   "metadata": {},
   "outputs": [],
   "source": [
    "print(df_pv,)"
   ]
  },
  {
   "cell_type": "code",
   "execution_count": null,
   "id": "2327605e",
   "metadata": {},
   "outputs": [],
   "source": [
    "print(temperatures_ind.sort_index(level=\"city\"))"
   ]
  },
  {
   "cell_type": "code",
   "execution_count": null,
   "id": "2dd83c2d",
   "metadata": {},
   "outputs": [],
   "source": [
    "print(temperatures_ind.sort_index(level=[\"country\", \"city\"], ascending = [True, False]))"
   ]
  },
  {
   "cell_type": "code",
   "execution_count": null,
   "id": "35985b89",
   "metadata": {},
   "outputs": [],
   "source": [
    "temperatures_bool = temperatures[(temperatures[\"date\"] >= \"2010-01-01\") & (temperatures[\"date\"] <= \"2011-12-31\")]"
   ]
  },
  {
   "cell_type": "code",
   "execution_count": null,
   "id": "15018455",
   "metadata": {},
   "outputs": [],
   "source": [
    "temperatures_ind = temperatures.set_index(\"date\").sort_index()"
   ]
  },
  {
   "cell_type": "code",
   "execution_count": null,
   "id": "3c047c32",
   "metadata": {},
   "outputs": [],
   "source": [
    "print(temperatures_ind.loc[\"2010\":\"2011\"])"
   ]
  },
  {
   "cell_type": "code",
   "execution_count": null,
   "id": "1e483e2c",
   "metadata": {},
   "outputs": [],
   "source": [
    "print(temperatures_ind.loc[\"2010-08\":\"2011-02\"])"
   ]
  },
  {
   "cell_type": "code",
   "execution_count": null,
   "id": "565e06c3",
   "metadata": {},
   "outputs": [],
   "source": [
    "temperatures[\"year\"] = temperatures[\"date\"].dt.year"
   ]
  },
  {
   "cell_type": "code",
   "execution_count": null,
   "id": "3180cbd4",
   "metadata": {},
   "outputs": [],
   "source": [
    "temp_by_country_city_vs_year = temperatures.pivot_table(\"avg_temp_c\", index = [\"country\", \"city\"], columns = \"year\")"
   ]
  },
  {
   "cell_type": "code",
   "execution_count": null,
   "id": "78ef91e9",
   "metadata": {},
   "outputs": [],
   "source": [
    "print(mean_temp_by_year[mean_temp_by_year == mean_temp_by_year.max()])"
   ]
  },
  {
   "cell_type": "code",
   "execution_count": null,
   "id": "dbac68b6",
   "metadata": {},
   "outputs": [],
   "source": [
    "mean_temp_by_city = temp_by_country_city_vs_year.mean(axis=\"columns\")"
   ]
  },
  {
   "cell_type": "code",
   "execution_count": null,
   "id": "c3341b2f",
   "metadata": {},
   "outputs": [],
   "source": [
    "print(mean_temp_by_city[mean_temp_by_city == mean_temp_by_city.min()])"
   ]
  }
 ],
 "metadata": {
  "kernelspec": {
   "display_name": "Python 3 (ipykernel)",
   "language": "python",
   "name": "python3"
  },
  "language_info": {
   "codemirror_mode": {
    "name": "ipython",
    "version": 3
   },
   "file_extension": ".py",
   "mimetype": "text/x-python",
   "name": "python",
   "nbconvert_exporter": "python",
   "pygments_lexer": "ipython3",
   "version": "3.10.4"
  }
 },
 "nbformat": 4,
 "nbformat_minor": 5
}
